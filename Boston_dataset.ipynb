{
  "nbformat": 4,
  "nbformat_minor": 0,
  "metadata": {
    "kernelspec": {
      "display_name": "Python 3",
      "language": "python",
      "name": "python3"
    },
    "language_info": {
      "codemirror_mode": {
        "name": "ipython",
        "version": 3
      },
      "file_extension": ".py",
      "mimetype": "text/x-python",
      "name": "python",
      "nbconvert_exporter": "python",
      "pygments_lexer": "ipython3",
      "version": "3.5.3"
    },
    "colab": {
      "name": "Assignment_1.ipynb",
      "provenance": [],
      "collapsed_sections": []
    }
  },
  "cells": [
    {
      "cell_type": "markdown",
      "metadata": {
        "deletable": true,
        "editable": true,
        "id": "m_R4z-lmbSjo",
        "colab_type": "text"
      },
      "source": [
        "<h2>Assignment 1 - Linear Regression on Boston Housing Data</h2>"
      ]
    },
    {
      "cell_type": "code",
      "metadata": {
        "deletable": true,
        "editable": true,
        "id": "WJ3cJxt3bSjp",
        "colab_type": "code",
        "colab": {}
      },
      "source": [
        "# The modules we're going to use\n",
        "from __future__ import print_function\n",
        "from sklearn import preprocessing\n",
        "from sklearn.model_selection import train_test_split\n",
        "from sklearn import datasets, linear_model\n",
        "from scipy import linalg\n",
        "import numpy as np\n",
        "import matplotlib.pyplot as plt\n",
        "\n",
        "# When you execute a code to plot with a simple SHIFT-ENTER, the plot will be shown directly under the code cell\n",
        "%matplotlib inline"
      ],
      "execution_count": 0,
      "outputs": []
    },
    {
      "cell_type": "code",
      "metadata": {
        "deletable": true,
        "editable": true,
        "id": "VXXIgKFJbSjr",
        "colab_type": "code",
        "colab": {}
      },
      "source": [
        "# Load data from scikit-learn, which returns (data, target)\n",
        "# note: if you call \"boston = load_boston()\", it returns a dictionary-like object\n",
        "data, target = datasets.load_boston(True)\n",
        "\n",
        "# Split the data into two parts: training data and testing data\n",
        "train_data,test_data,train_target,test_target = train_test_split(data,(target[:, np.newaxis]), test_size=0.2, random_state=42)"
      ],
      "execution_count": 0,
      "outputs": []
    },
    {
      "cell_type": "markdown",
      "metadata": {
        "deletable": true,
        "editable": true,
        "id": "NA3ezrA-bSjt",
        "colab_type": "text"
      },
      "source": [
        "<h4>Use scikit-learn library in the following cell</h4>"
      ]
    },
    {
      "cell_type": "code",
      "metadata": {
        "deletable": true,
        "editable": true,
        "id": "hlqomvfpbSjt",
        "colab_type": "code",
        "colab": {}
      },
      "source": [
        "# Task 1-1: use linear regression in sklearn\n",
        "\n",
        "\n",
        "# Task 1-2: show intercept and coefficents\n",
        "\n",
        "\n",
        "# Task 1-3: show errors on training dataset and testing dataset"
      ],
      "execution_count": 0,
      "outputs": []
    },
    {
      "cell_type": "markdown",
      "metadata": {
        "deletable": true,
        "editable": true,
        "id": "RpX2tOa5bSjv",
        "colab_type": "text"
      },
      "source": [
        "<h4>Use analytical solution (normal equation) to perform linear regression in the following cell</h4>"
      ]
    },
    {
      "cell_type": "code",
      "metadata": {
        "deletable": true,
        "editable": true,
        "id": "YZJJ0sUGbSjv",
        "colab_type": "code",
        "colab": {}
      },
      "source": [
        "# Task 2-1: Implement a function solving normal equation \n",
        "# Inputs: Training data and  training label\n",
        "# Output: Weights\n",
        "def myNormalEqualFun(X,y):\n",
        "    return \n",
        "    \n",
        "# Task 2-2: Implement a function performing prediction\n",
        "# Inputs: Testing data and weights\n",
        "# Output: Predictions\n",
        "def myPredictFun(X,w):\n",
        "    return\n",
        "\n",
        "# Here we insert a column of 1s into training_data and test_data (to be consistent with our lecture slides)\n",
        "train_data_intercept = np.insert(train_data, 0, 1, axis=1)\n",
        "test_data_intercept = np.insert(test_data, 0, 1, axis=1)\n",
        "\n",
        "# Here we call myNormalEqual to train the model and get weights\n",
        "w = myNormalEqualFun(train_data_intercept,train_target)\n",
        "\n",
        "\n",
        "# Task 2-3: show intercept and coefficents\n",
        "\n",
        "\n",
        "# Task 2-4: show errors on training dataset and testing dataset"
      ],
      "execution_count": 0,
      "outputs": []
    },
    {
      "cell_type": "markdown",
      "metadata": {
        "deletable": true,
        "editable": true,
        "id": "1hhVEfixbSjx",
        "colab_type": "text"
      },
      "source": [
        "<h4>Use numerical solution (baisc gradient descent) to perform linear regression in the following cell</h4>"
      ]
    },
    {
      "cell_type": "code",
      "metadata": {
        "deletable": true,
        "editable": true,
        "id": "3H1IxOBubSjy",
        "colab_type": "code",
        "colab": {}
      },
      "source": [
        "# Feature scaling\n",
        "scaler = preprocessing.StandardScaler().fit(train_data)\n",
        "train_data = scaler.transform(train_data)\n",
        "test_data = scaler.transform(test_data)\n",
        "\n",
        "\n",
        "# Task 3-1: Implement a function performing gradient descent\n",
        "# Inputs: Training data, training label, leaerning rate, number of iterations\n",
        "# Output: the final Weights\n",
        "#         the loss history along iterations\n",
        "def myGradientDescentFun(X,y,learning_rate,numItrs):\n",
        "    return \n",
        "\n",
        "# Task 3-2: Implement a function performing prediction\n",
        "# Inputs: Testing data and weights\n",
        "# Output: Predictions\n",
        "def myPredictFun(X,w):\n",
        "    return\n",
        "\n",
        "# Here we insert a column of 1s into training_data and test_data (to be consistent with our lecture slides)\n",
        "train_data_intercept = np.insert(train_data, 0, 1, axis=1)\n",
        "test_data_intercept = np.insert(test_data, 0, 1, axis=1)\n",
        "\n",
        "# Here we call myGradientDescentFun to train the model and get weights\n",
        "# Note: you need to figure out good learning rate value and the number of iterations\n",
        "w, loss = myGradientDescentFun(train_data_intercept,train_target,0,0)\n",
        "\n",
        "# Task 3-3: show intercept and coefficents\n",
        "\n",
        "\n",
        "# Task 3-4: show errors on training dataset and testing dataset\n",
        "\n",
        "\n",
        "# Task 3-5: plot learning curves showing training errors and testing errors along iterations"
      ],
      "execution_count": 0,
      "outputs": []
    },
    {
      "cell_type": "markdown",
      "metadata": {
        "id": "Rx1UOqmfcNe0",
        "colab_type": "text"
      },
      "source": [
        "<h4>Use numerical solution (stochastic gradient descent) to perform linear regression in the following cell</h4>"
      ]
    },
    {
      "cell_type": "code",
      "metadata": {
        "id": "96_WVyVKcNss",
        "colab_type": "code",
        "colab": {}
      },
      "source": [
        "# Feature scaling\n",
        "scaler = preprocessing.StandardScaler().fit(train_data)\n",
        "train_data = scaler.transform(train_data)\n",
        "test_data = scaler.transform(test_data)\n",
        "\n",
        "\n",
        "# Task 4-1: Implement a function performing gradient descent\n",
        "# Inputs: Training data, training label, leaerning rate, number of epoches, batch size\n",
        "# Output: the final Weights\n",
        "#         the loss history along batches\n",
        "def myGradientDescentFun(X,y,learning_rate,epoches, batchsize):\n",
        "    return \n",
        "\n",
        "# Task 4-2: Implement a function performing prediction\n",
        "# Inputs: Testing data and weights\n",
        "# Output: Predictions\n",
        "def myPredictFun(X,w):\n",
        "    return\n",
        "\n",
        "# Here we insert a column of 1s into training_data and test_data (to be consistent with our lecture slides)\n",
        "train_data_intercept = np.insert(train_data, 0, 1, axis=1)\n",
        "test_data_intercept = np.insert(test_data, 0, 1, axis=1)\n",
        "\n",
        "# Here we call myGradientDescentFun to train the model and get weights\n",
        "# Note: you need to figure out good learning rate value and the number of iterations\n",
        "w, loss = myGradientDescentFun(train_data_intercept,train_target,0,0,0)\n",
        "\n",
        "# Task 4-3: show intercept and coefficents\n",
        "\n",
        "\n",
        "# Task 4-4: show errors on training dataset and testing dataset\n",
        "\n",
        "\n",
        "# Task 4-5: plot learning curves showing training errors and testing errors along bath"
      ],
      "execution_count": 0,
      "outputs": []
    }
  ]
}